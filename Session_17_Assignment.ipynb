{
 "cells": [
  {
   "cell_type": "markdown",
   "metadata": {},
   "source": [
    "### Problem Statement 1:\n",
    "### Blood glucose levels for obese patients have a mean of 100 with a standard deviation of 15. A researcher thinks that a diet high in raw cornstarch will have a positive effect on blood glucose levels. A sample of 36 patients who have tried the raw cornstarch diet have a mean glucose level of 108. Test the hypothesis that the raw cornstarch had an effect or not."
   ]
  },
  {
   "cell_type": "code",
   "execution_count": 1,
   "metadata": {},
   "outputs": [],
   "source": [
    "# Step-1: State the hypotheses\n",
    "\n",
    "# The population mean is 100.\n",
    "# Null Hypotheses            H0: μ= 100\n",
    "# Alternate hypotheses       H1: μ > 100\n",
    "\n",
    "# Step-2: Set up the significance level. \n",
    "\n",
    "# It is not given in the problem so let’s assume it as 5% (0.05).\n",
    "# Step-3: Compute the random chance probability using z score and z-table.\n",
    "\n",
    "# Step-3: Compute the random chance probability using z score and z-table.\n",
    "\n"
   ]
  },
  {
   "attachments": {
    "Z-score-form.png": {
     "image/png": "[encoded data removed]"
    }
   },
   "cell_type": "markdown",
   "metadata": {},
   "source": [
    "![Z-score-form.png](attachment:Z-score-form.png)"
   ]
  },
  {
   "cell_type": "code",
   "execution_count": 2,
   "metadata": {},
   "outputs": [
    {
     "data": {
      "text/plain": [
       "3.2"
      ]
     },
     "execution_count": 2,
     "metadata": {},
     "output_type": "execute_result"
    }
   ],
   "source": [
    "# For this set of data: z= (108-100) / (15/√36)=3.20\n",
    "import math\n",
    "\n",
    "Z =  (108-100) / (15/math.sqrt(36))\n",
    "Z"
   ]
  },
  {
   "cell_type": "code",
   "execution_count": 3,
   "metadata": {},
   "outputs": [],
   "source": [
    "# the probability by looking at z- table and p-value associated with 3.20 is 0.9993 \n",
    "# i.e. probability of having value less than 108 is 0.9993 and more than or equals to 108 is (1-0.9993)=0.0007."
   ]
  },
  {
   "cell_type": "code",
   "execution_count": 4,
   "metadata": {},
   "outputs": [],
   "source": [
    "# Step-4:\n",
    "# It is less than 0.05 so we will reject the Null hypothesis i.e. there is raw cornstarch effect."
   ]
  },
  {
   "cell_type": "markdown",
   "metadata": {},
   "source": [
    "### Problem Statement 2:\n",
    "### In one state, 52% of the voters are Republicans, and 48% are Democrats. In a second state, 47% of the voters are Republicans, and 53% are Democrats. Suppose a simple random sample of 100 voters are surveyed from each state. What is the probability that the survey will show a greater percentage of Republican voters in the second state than in the first state? "
   ]
  },
  {
   "cell_type": "code",
   "execution_count": 5,
   "metadata": {},
   "outputs": [],
   "source": [
    "# P1 = The proportion of Republican voters in the first state = 0.52\n",
    "# 1-P1 = The proportion of Democrats voters in the first state = 0.48\n",
    "# P2 = The proportion of Republican voters in the second state = 0.47\n",
    "# 1-P2 = The proportion of Democrats voters in the second state = 0.53\n",
    "# p1 = The proportion of Republican voters in the sample from the first state\n",
    "# p2 = The proportion of Republican voters in the sample from the second state\n",
    "# The number of voters sampled from the first state (n1) = 100, \n",
    "# The number of voters sampled from the second state (n2) = 100"
   ]
  },
  {
   "cell_type": "code",
   "execution_count": 6,
   "metadata": {},
   "outputs": [
    {
     "name": "stdout",
     "output_type": "stream",
     "text": [
      "52.0\n",
      "48.0\n",
      "47.0\n",
      "53.0\n"
     ]
    }
   ],
   "source": [
    "# Step 1 Calculate the normal values\n",
    "n1, n2 = 100, 100\n",
    "P1 = 0.52\n",
    "P2 = 0.47 \n",
    "\n",
    "a = n1*P1 \n",
    "b = n1*(1 - P1) \n",
    "c = n2*P2  \n",
    "d = n2*(1 - P2)  \n",
    "\n",
    "print(a)\n",
    "print(b)\n",
    "print(c)\n",
    "print(d)\n"
   ]
  },
  {
   "cell_type": "code",
   "execution_count": 7,
   "metadata": {},
   "outputs": [
    {
     "data": {
      "text/plain": [
       "0.05"
      ]
     },
     "execution_count": 7,
     "metadata": {},
     "output_type": "execute_result"
    }
   ],
   "source": [
    "# Step 2\n",
    "# Find the mean of the difference in sample proportions:  μ = P1 - P2\n",
    "μ  = P1-P2\n",
    "μ \n",
    "round(μ , 5)"
   ]
  },
  {
   "cell_type": "code",
   "execution_count": 8,
   "metadata": {},
   "outputs": [
    {
     "data": {
      "text/plain": [
       "0.07062"
      ]
     },
     "execution_count": 8,
     "metadata": {},
     "output_type": "execute_result"
    }
   ],
   "source": [
    "# Step 3\n",
    "\n",
    "import math\n",
    "# Find the standard deviation of the difference.\n",
    "σd  = math.sqrt( (P1*(1 - P1) / n1 ) + ( P2*(1 - P2) / n2 ) )\n",
    " \n",
    "round(σd, 5)"
   ]
  },
  {
   "cell_type": "code",
   "execution_count": 9,
   "metadata": {},
   "outputs": [
    {
     "data": {
      "text/plain": [
       "-0.7080278164104213"
      ]
     },
     "execution_count": 9,
     "metadata": {},
     "output_type": "execute_result"
    }
   ],
   "source": [
    "# Step 4\n",
    "# Find the probability. \n",
    "# This problem requires us to find the probability that p1 is less than p2\n",
    "# This is equivalent to finding the probability that p1 - p2 is less than zero. \n",
    "# To find this probability, we need to transform the random variable (p1 - p2) into a z-score. \n",
    "# That transformation appears below.\n",
    "x =0 # mean of sample\n",
    "z = (x - μ ) / σd \n",
    "z"
   ]
  },
  {
   "cell_type": "markdown",
   "metadata": {},
   "source": [
    "### Using Stat Trek's <a href ='https://stattrek.com/Tables/Normal.aspx' >Normal Distribution Calculator</a>, we find that the probability of a z-score being -0.708 or less is  0.24.\n",
    "### <font color=red> P(z <=0.708) = 0.24 </font>"
   ]
  },
  {
   "cell_type": "markdown",
   "metadata": {},
   "source": [
    "### Problem Statement 3:\n",
    "    \n",
    "### You take the SAT and score 1100. The mean score for the SAT is 1026 and the standard deviation is 209. How well did you score on the test compared to the average test taker?"
   ]
  },
  {
   "attachments": {
    "Z-score-form.png": {
     "image/png": "[encoded data removed]"
    }
   },
   "cell_type": "markdown",
   "metadata": {},
   "source": [
    "![Z-score-form.png](attachment:Z-score-form.png)"
   ]
  },
  {
   "cell_type": "code",
   "execution_count": 10,
   "metadata": {},
   "outputs": [
    {
     "data": {
      "text/plain": [
       "0.35406698564593303"
      ]
     },
     "execution_count": 10,
     "metadata": {},
     "output_type": "execute_result"
    }
   ],
   "source": [
    "x = 1100\n",
    "μ = 1026\n",
    "σ = 209\n",
    "\n",
    "z = (x-μ) / σ\n",
    "z\n"
   ]
  },
  {
   "cell_type": "code",
   "execution_count": 11,
   "metadata": {},
   "outputs": [],
   "source": [
    "# This means that your score was .354 std devs above the mean.\n",
    "#  Percentage of test-takers scored below by using Z table in above example is is .1368 + .5000* = .6368 or 63.68%."
   ]
  }
 ],
 "metadata": {
  "kernelspec": {
   "display_name": "Python 3",
   "language": "python",
   "name": "python3"
  },
  "language_info": {
   "codemirror_mode": {
    "name": "ipython",
    "version": 3
   },
   "file_extension": ".py",
   "mimetype": "text/x-python",
   "name": "python",
   "nbconvert_exporter": "python",
   "pygments_lexer": "ipython3",
   "version": "3.6.4"
  }
 },
 "nbformat": 4,
 "nbformat_minor": 2
}
